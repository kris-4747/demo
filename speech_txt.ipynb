{
 "cells": [
  {
   "cell_type": "code",
   "execution_count": null,
   "metadata": {},
   "outputs": [],
   "source": [
    "# pip install SpeechRecognition and pyaudio"
   ]
  },
  {
   "cell_type": "code",
   "execution_count": null,
   "metadata": {},
   "outputs": [],
   "source": [
    "import speech_recognition as sr \n",
    "def sp_rec():\n",
    "    r=sr.Recognizer()\n",
    "    mic=sr.Microphone()\n",
    "\n",
    "\n",
    "    with mic as source:\n",
    "        print('Speak..........')\n",
    "        r.energy_threshold=700\n",
    "        r.adjust_for_ambient_noise(source,duration=1)\n",
    "        audio=r.listen(source)\n",
    "\n",
    "        try:\n",
    "            text=r.recognize_google(audio)\n",
    "            print('you said......',text)\n",
    "        except:\n",
    "            print(\"didn't hear anything pls speak again......\")\n",
    "sp_rec()"
   ]
  }
 ],
 "metadata": {
  "kernelspec": {
   "display_name": "Python 3",
   "language": "python",
   "name": "python3"
  },
  "language_info": {
   "codemirror_mode": {
    "name": "ipython",
    "version": 3
   },
   "file_extension": ".py",
   "mimetype": "text/x-python",
   "name": "python",
   "nbconvert_exporter": "python",
   "pygments_lexer": "ipython3",
   "version": "3.11.5"
  }
 },
 "nbformat": 4,
 "nbformat_minor": 2
}
